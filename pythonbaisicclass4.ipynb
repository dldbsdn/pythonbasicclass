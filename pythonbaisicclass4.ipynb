{
  "nbformat": 4,
  "nbformat_minor": 0,
  "metadata": {
    "colab": {
      "name": "Untitled2.ipynb",
      "provenance": [],
      "authorship_tag": "ABX9TyPpKQ9m6g6TDDZxQKH5ORFP",
      "include_colab_link": true
    },
    "kernelspec": {
      "name": "python3",
      "display_name": "Python 3"
    },
    "language_info": {
      "name": "python"
    }
  },
  "cells": [
    {
      "cell_type": "markdown",
      "metadata": {
        "id": "view-in-github",
        "colab_type": "text"
      },
      "source": [
        "<a href=\"https://colab.research.google.com/github/dldbsdn/pythonbasicclass/blob/main/pythonbaisicclass4.ipynb\" target=\"_parent\"><img src=\"https://colab.research.google.com/assets/colab-badge.svg\" alt=\"Open In Colab\"/></a>"
      ]
    },
    {
      "cell_type": "code",
      "execution_count": 6,
      "metadata": {
        "colab": {
          "base_uri": "https://localhost:8080/"
        },
        "id": "Nv7a9vFe9mUA",
        "outputId": "46d2b4b0-5b99-490f-a606-41f99603e373"
      },
      "outputs": [
        {
          "output_type": "stream",
          "name": "stdout",
          "text": [
            "1\n",
            "2\n",
            "1\n",
            "0\n"
          ]
        }
      ],
      "source": [
        "# 복합 대입 연산자.\n",
        "a = 1\n",
        "print(a)\n",
        "#a= a+1     =     a++      =         a+=1    = 자기 자신에 1을 증가\n",
        "a+=1 #**    \n",
        "print(a)\n",
        "a = a-1         #자기 자신에 1을 감소\n",
        "print(a)\n",
        "a-=1\n",
        "print(a)\n"
      ]
    },
    {
      "cell_type": "code",
      "source": [
        "a,b =10,20\n",
        "print('a=%d, b=%d' % (a,b))\n",
        "\n",
        "a,b = b,a\n",
        "print('a = %d, b = %d' %(a,b))"
      ],
      "metadata": {
        "colab": {
          "base_uri": "https://localhost:8080/"
        },
        "id": "m3rLrEyoAIkH",
        "outputId": "01bad607-116d-45db-b379-88bccce5a15b"
      },
      "execution_count": 7,
      "outputs": [
        {
          "output_type": "stream",
          "name": "stdout",
          "text": [
            "a=10, b=20\n",
            "a = 20, b = 10\n"
          ]
        }
      ]
    },
    {
      "cell_type": "code",
      "source": [
        "1 ==1   #같다"
      ],
      "metadata": {
        "colab": {
          "base_uri": "https://localhost:8080/"
        },
        "id": "S98auDNOBB82",
        "outputId": "927b9e76-7581-4b32-984b-437d56d23de0"
      },
      "execution_count": 8,
      "outputs": [
        {
          "output_type": "execute_result",
          "data": {
            "text/plain": [
              "True"
            ]
          },
          "metadata": {},
          "execution_count": 8
        }
      ]
    },
    {
      "cell_type": "code",
      "source": [
        "1 !=1   #같지않다"
      ],
      "metadata": {
        "colab": {
          "base_uri": "https://localhost:8080/"
        },
        "id": "Vewj5TttBSur",
        "outputId": "5ee002c9-affa-45c8-9a27-adee81287887"
      },
      "execution_count": 9,
      "outputs": [
        {
          "output_type": "execute_result",
          "data": {
            "text/plain": [
              "False"
            ]
          },
          "metadata": {},
          "execution_count": 9
        }
      ]
    },
    {
      "cell_type": "code",
      "source": [
        "1 !=2"
      ],
      "metadata": {
        "colab": {
          "base_uri": "https://localhost:8080/"
        },
        "id": "UH9wWICPBZwo",
        "outputId": "505e2c45-1034-4fdb-8537-fbc8e0adbd55"
      },
      "execution_count": 10,
      "outputs": [
        {
          "output_type": "execute_result",
          "data": {
            "text/plain": [
              "True"
            ]
          },
          "metadata": {},
          "execution_count": 10
        }
      ]
    },
    {
      "cell_type": "code",
      "source": [
        "# 시퀀스 연산자 : 순서가 있는 구조 시퀀스(리스트, 튜플, 문자열, range)\n",
        "\n",
        "[1,3,5] + [2,4,6]"
      ],
      "metadata": {
        "colab": {
          "base_uri": "https://localhost:8080/"
        },
        "id": "6K2UaXktBdAi",
        "outputId": "fa45a011-7446-41db-e025-aae773b4d84b"
      },
      "execution_count": 11,
      "outputs": [
        {
          "output_type": "execute_result",
          "data": {
            "text/plain": [
              "[1, 3, 5, 2, 4, 6]"
            ]
          },
          "metadata": {},
          "execution_count": 11
        }
      ]
    },
    {
      "cell_type": "code",
      "source": [
        "'hello' + ' ' + 'python'   #빈칸은 띄어쓰기"
      ],
      "metadata": {
        "colab": {
          "base_uri": "https://localhost:8080/",
          "height": 36
        },
        "id": "RGP2pjvzCFzY",
        "outputId": "fd7525bd-a2de-4fe1-ed7c-0d3928eecce8"
      },
      "execution_count": 12,
      "outputs": [
        {
          "output_type": "execute_result",
          "data": {
            "application/vnd.google.colaboratory.intrinsic+json": {
              "type": "string"
            },
            "text/plain": [
              "'hello python'"
            ]
          },
          "metadata": {},
          "execution_count": 12
        }
      ]
    },
    {
      "cell_type": "code",
      "source": [
        "[1,3,5] *2"
      ],
      "metadata": {
        "colab": {
          "base_uri": "https://localhost:8080/"
        },
        "id": "NIZFN9POCSOS",
        "outputId": "a8ff5a17-b4aa-4ae4-b429-e2231fd07d03"
      },
      "execution_count": 15,
      "outputs": [
        {
          "output_type": "execute_result",
          "data": {
            "text/plain": [
              "[1, 3, 5, 1, 3, 5]"
            ]
          },
          "metadata": {},
          "execution_count": 15
        }
      ]
    },
    {
      "cell_type": "code",
      "source": [
        "'*' *20"
      ],
      "metadata": {
        "colab": {
          "base_uri": "https://localhost:8080/",
          "height": 36
        },
        "id": "ZPx27gkUCd7G",
        "outputId": "ad431615-23bf-4765-86c3-189a4fee8d43"
      },
      "execution_count": 16,
      "outputs": [
        {
          "output_type": "execute_result",
          "data": {
            "application/vnd.google.colaboratory.intrinsic+json": {
              "type": "string"
            },
            "text/plain": [
              "'********************'"
            ]
          },
          "metadata": {},
          "execution_count": 16
        }
      ]
    },
    {
      "cell_type": "code",
      "source": [
        "#  멤버쉽 연산자\n",
        "5 in[1,2,3,4,5]"
      ],
      "metadata": {
        "colab": {
          "base_uri": "https://localhost:8080/"
        },
        "id": "8RT487ObDRqe",
        "outputId": "a00bae82-6209-4a00-9fb3-3e0fe64b8799"
      },
      "execution_count": 17,
      "outputs": [
        {
          "output_type": "execute_result",
          "data": {
            "text/plain": [
              "True"
            ]
          },
          "metadata": {},
          "execution_count": 17
        }
      ]
    },
    {
      "cell_type": "code",
      "source": [
        "5 not in[1,2,3,4,5]"
      ],
      "metadata": {
        "colab": {
          "base_uri": "https://localhost:8080/"
        },
        "id": "c0txckU9DV8c",
        "outputId": "50541799-fcc1-4b57-f275-0e25e25f14d6"
      },
      "execution_count": 18,
      "outputs": [
        {
          "output_type": "execute_result",
          "data": {
            "text/plain": [
              "False"
            ]
          },
          "metadata": {},
          "execution_count": 18
        }
      ]
    },
    {
      "cell_type": "code",
      "source": [
        "'a' in 'apple'"
      ],
      "metadata": {
        "colab": {
          "base_uri": "https://localhost:8080/"
        },
        "id": "8pEuOk1sDZQ2",
        "outputId": "05e0ee80-f668-4f6f-8895-e783f0d9d790"
      },
      "execution_count": 19,
      "outputs": [
        {
          "output_type": "execute_result",
          "data": {
            "text/plain": [
              "True"
            ]
          },
          "metadata": {},
          "execution_count": 19
        }
      ]
    },
    {
      "cell_type": "code",
      "source": [
        "\n",
        "a = input('10~99사이의 정수를 입력하세요 >>>')\n",
        "print(f'십의 자리 : {a[0]}')\n",
        "print(f'일의 자리 : {a[1]}')"
      ],
      "metadata": {
        "colab": {
          "base_uri": "https://localhost:8080/"
        },
        "id": "eSGd0KO2EO1U",
        "outputId": "f7298a32-3fef-40c9-8b1f-344552347b2c"
      },
      "execution_count": 21,
      "outputs": [
        {
          "output_type": "stream",
          "name": "stdout",
          "text": [
            "10~99사이의 정수를 입력하세요 >>>45\n",
            "십의 자리 : 4\n",
            "일의 자리 : 5\n"
          ]
        }
      ]
    },
    {
      "cell_type": "code",
      "source": [
        "a = int(input('10~99사이의 정수를 입력하세요 >>>'))\n",
        "\n",
        "print(f'십의 자리 : {a//10}')\n",
        "print(f'십의 자리 : {a%10}')"
      ],
      "metadata": {
        "colab": {
          "base_uri": "https://localhost:8080/"
        },
        "id": "PFF0eOVeFmhj",
        "outputId": "76ac3a06-fa03-46c7-a1cd-7c16abd9ee07"
      },
      "execution_count": 22,
      "outputs": [
        {
          "output_type": "stream",
          "name": "stdout",
          "text": [
            "10~99사이의 정수를 입력하세요 >>>46\n",
            "십의 자리 : 4\n",
            "십의 자리 : 6\n"
          ]
        }
      ]
    },
    {
      "cell_type": "code",
      "source": [
        "a = int(input('초를 입력하세요>>>'))\n",
        "print(f'반환 결과는 {a //3600}시간 {a %3600 //60}분{a%60}초 입니다.')\n",
        "\n",
        "# a = 3690\n",
        "# #1시간 = 60분 = 1*60*60 초 = 3600초\n",
        "# b = a //3600   #//앞의값만 몫\n",
        "# print(b)\n",
        "# c = a %3600 //60    # % 나머지 \n",
        "# print(c)\n",
        "# d = a%60"
      ],
      "metadata": {
        "colab": {
          "base_uri": "https://localhost:8080/"
        },
        "id": "8lOVF0kAF7Rw",
        "outputId": "9b24012e-93cc-4537-d0fe-b4b0ad12e26f"
      },
      "execution_count": 25,
      "outputs": [
        {
          "output_type": "stream",
          "name": "stdout",
          "text": [
            "초를 입력하세요>>>4200\n",
            "반환 결과는 1시간 10분0초 입니다.\n"
          ]
        }
      ]
    },
    {
      "cell_type": "code",
      "source": [
        "a = int(input('4자리 사원번호를 입력하세요>>>'))\n",
        "\n",
        "a_1 = a%10\n",
        "\n",
        "if a_1 >=5:\n",
        "  print('근무시간은 오전입니다.') \n",
        "else:\n",
        "    print('근무시간은 오후입니다.')"
      ],
      "metadata": {
        "colab": {
          "base_uri": "https://localhost:8080/"
        },
        "id": "C1GpoWzcL3sk",
        "outputId": "ae5cfff9-a161-4544-8a16-58b0930d9a35"
      },
      "execution_count": 29,
      "outputs": [
        {
          "output_type": "stream",
          "name": "stdout",
          "text": [
            "4자리 사원번호를 입력하세요>>>1255\n",
            "근무시간은 오전입니다.\n"
          ]
        }
      ]
    },
    {
      "cell_type": "code",
      "source": [
        "# if ,else\n",
        "# 조건문은 특정 조건을 만족하는지의 여부에따라 실행되는 코드가 달라져야할 때 사용\n",
        "\n",
        "a = 0\n",
        "int(input('숫자를 입력하세요>>>'))\n",
        "\n",
        "if a>0:\n",
        "  print('양수')\n",
        "else :\n",
        "  print('음수')"
      ],
      "metadata": {
        "colab": {
          "base_uri": "https://localhost:8080/"
        },
        "id": "N1JV6go_NplL",
        "outputId": "fa5f1401-d8fe-498e-8a8e-babb8bbcc9ab"
      },
      "execution_count": 32,
      "outputs": [
        {
          "output_type": "stream",
          "name": "stdout",
          "text": [
            "숫자를 입력하세요>>>-5\n",
            "음수\n"
          ]
        }
      ]
    },
    {
      "cell_type": "code",
      "source": [
        "#https://colab.research.google.com/drive/1R1SAxFSbudgKVHb8mAmePYPHCPkmygga?usp=sharing"
      ],
      "metadata": {
        "id": "XMqK-aFwQ_xB"
      },
      "execution_count": null,
      "outputs": []
    },
    {
      "cell_type": "code",
      "source": [
        ""
      ],
      "metadata": {
        "id": "tDzlUN5kRBjl"
      },
      "execution_count": null,
      "outputs": []
    },
    {
      "cell_type": "code",
      "source": [
        ""
      ],
      "metadata": {
        "id": "DCOxy00IRIEA"
      },
      "execution_count": null,
      "outputs": []
    }
  ]
}