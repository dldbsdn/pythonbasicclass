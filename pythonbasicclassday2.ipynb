{
  "nbformat": 4,
  "nbformat_minor": 0,
  "metadata": {
    "colab": {
      "name": "Untitled0.ipynb",
      "provenance": [],
      "authorship_tag": "ABX9TyPkulVDXKxUx4eKNb+VcNyx",
      "include_colab_link": true
    },
    "kernelspec": {
      "name": "python3",
      "display_name": "Python 3"
    },
    "language_info": {
      "name": "python"
    }
  },
  "cells": [
    {
      "cell_type": "markdown",
      "metadata": {
        "id": "view-in-github",
        "colab_type": "text"
      },
      "source": [
        "<a href=\"https://colab.research.google.com/github/dldbsdn/pythonbasicclass/blob/main/pythonbasicclassday2.ipynb\" target=\"_parent\"><img src=\"https://colab.research.google.com/assets/colab-badge.svg\" alt=\"Open In Colab\"/></a>"
      ]
    },
    {
      "cell_type": "code",
      "execution_count": null,
      "metadata": {
        "id": "P5n8BVZf_wXp"
      },
      "outputs": [],
      "source": [
        "# 3 기본 자료형\n",
        "\n",
        "int 정수 1,2,3,4\n",
        "float 실수 3.14  , 2.18\n",
        "bool 논리 true, false\n",
        "str 문자열 '홍길동', '슈가'"
      ]
    },
    {
      "cell_type": "code",
      "source": [
        "# 1. 정수  int\n",
        "\n",
        "int(1.9)"
      ],
      "metadata": {
        "id": "5opx5QjFAL0A"
      },
      "execution_count": null,
      "outputs": []
    },
    {
      "cell_type": "code",
      "source": [
        "# int('100')\n",
        "# 큰따옴표 또는 작은 따옴표 안에있는 숫자는 숫자처럼 보이지만 문자로 취급."
      ],
      "metadata": {
        "id": "TvS7CzmMEFsA"
      },
      "execution_count": null,
      "outputs": []
    },
    {
      "cell_type": "code",
      "source": [
        "# input ('숫자를 입력하세요>>>') # input 은 모든 입력을 문자로만 받는다.\n",
        "\n",
        "# 숫자를 입력하세요>>> 123\n",
        "# '123'"
      ],
      "metadata": {
        "id": "i7UZHueTEMm8"
      },
      "execution_count": null,
      "outputs": []
    },
    {
      "cell_type": "code",
      "source": [
        "# int(input('숫자를 입력하세요>>>'))\n",
        "# 숫자를 입력하세요 >>> 123\n",
        "# 123"
      ],
      "metadata": {
        "colab": {
          "base_uri": "https://localhost:8080/",
          "height": 137
        },
        "id": "3IhRz3JKFcSZ",
        "outputId": "2e27d9fa-94a8-4bef-c472-eea1e277e635"
      },
      "execution_count": 2,
      "outputs": [
        {
          "output_type": "error",
          "ename": "SyntaxError",
          "evalue": "ignored",
          "traceback": [
            "\u001b[0;36m  File \u001b[0;32m\"<ipython-input-2-6fe90aa236ad>\"\u001b[0;36m, line \u001b[0;32m2\u001b[0m\n\u001b[0;31m    숫자를 입력하세요 >>> 123\u001b[0m\n\u001b[0m            ^\u001b[0m\n\u001b[0;31mSyntaxError\u001b[0m\u001b[0;31m:\u001b[0m invalid syntax\n"
          ]
        }
      ]
    },
    {
      "cell_type": "code",
      "source": [
        "# 논리 bool , boolean : True or False\n",
        "\n",
        "bool(0)"
      ],
      "metadata": {
        "colab": {
          "base_uri": "https://localhost:8080/"
        },
        "id": "Y2ECLloSF24e",
        "outputId": "4cc689e2-0df2-47dd-9169-621137632967"
      },
      "execution_count": 6,
      "outputs": [
        {
          "output_type": "execute_result",
          "data": {
            "text/plain": [
              "False"
            ]
          },
          "metadata": {},
          "execution_count": 6
        }
      ]
    },
    {
      "cell_type": "code",
      "source": [
        "bool(1)"
      ],
      "metadata": {
        "colab": {
          "base_uri": "https://localhost:8080/"
        },
        "id": "oFdDfn26GPJ-",
        "outputId": "ab32468d-f34a-40dd-9387-ddbaedf78f14"
      },
      "execution_count": 3,
      "outputs": [
        {
          "output_type": "execute_result",
          "data": {
            "text/plain": [
              "True"
            ]
          },
          "metadata": {},
          "execution_count": 3
        }
      ]
    },
    {
      "cell_type": "code",
      "source": [
        "bool('')"
      ],
      "metadata": {
        "colab": {
          "base_uri": "https://localhost:8080/"
        },
        "id": "QXEFP76wGW2I",
        "outputId": "0e5bab16-5987-4618-d4a8-3f675fc0b77a"
      },
      "execution_count": 4,
      "outputs": [
        {
          "output_type": "execute_result",
          "data": {
            "text/plain": [
              "False"
            ]
          },
          "metadata": {},
          "execution_count": 4
        }
      ]
    },
    {
      "cell_type": "code",
      "source": [
        "bool('1')"
      ],
      "metadata": {
        "colab": {
          "base_uri": "https://localhost:8080/"
        },
        "id": "GgCPcaY2GaWA",
        "outputId": "7832a1e7-d17d-47d1-e896-c95c9fdbf20b"
      },
      "execution_count": 5,
      "outputs": [
        {
          "output_type": "execute_result",
          "data": {
            "text/plain": [
              "True"
            ]
          },
          "metadata": {},
          "execution_count": 5
        }
      ]
    },
    {
      "cell_type": "code",
      "source": [
        "# 4 문자열 str  , string\n",
        "\n",
        "a = '한국'\n",
        "b = \"한국\"  #따옴표 상관없이 오류발생이 생기지않음.\n",
        "\n",
        "a = '''대한\n",
        "민국 '''"
      ],
      "metadata": {
        "id": "7Qz_T9PuGxcI"
      },
      "execution_count": null,
      "outputs": []
    },
    {
      "cell_type": "code",
      "source": [
        "str(100)"
      ],
      "metadata": {
        "colab": {
          "base_uri": "https://localhost:8080/",
          "height": 35
        },
        "id": "2TK7AEIpIBy2",
        "outputId": "47c30bce-8e0e-4ef4-bbb8-47c1d8c56b14"
      },
      "execution_count": 7,
      "outputs": [
        {
          "output_type": "execute_result",
          "data": {
            "application/vnd.google.colaboratory.intrinsic+json": {
              "type": "string"
            },
            "text/plain": [
              "'100'"
            ]
          },
          "metadata": {},
          "execution_count": 7
        }
      ]
    },
    {
      "cell_type": "code",
      "source": [
        "str(True)"
      ],
      "metadata": {
        "colab": {
          "base_uri": "https://localhost:8080/",
          "height": 35
        },
        "id": "NXxl-sw0IGq_",
        "outputId": "737347d8-f5c2-4998-993e-260353858f48"
      },
      "execution_count": 9,
      "outputs": [
        {
          "output_type": "execute_result",
          "data": {
            "application/vnd.google.colaboratory.intrinsic+json": {
              "type": "string"
            },
            "text/plain": [
              "'True'"
            ]
          },
          "metadata": {},
          "execution_count": 9
        }
      ]
    },
    {
      "cell_type": "code",
      "source": [
        "str(False)"
      ],
      "metadata": {
        "colab": {
          "base_uri": "https://localhost:8080/",
          "height": 35
        },
        "id": "QB9yhVWrIOoe",
        "outputId": "212c8187-ab8b-4b02-b138-91cb2d50690b"
      },
      "execution_count": 11,
      "outputs": [
        {
          "output_type": "execute_result",
          "data": {
            "application/vnd.google.colaboratory.intrinsic+json": {
              "type": "string"
            },
            "text/plain": [
              "'False'"
            ]
          },
          "metadata": {},
          "execution_count": 11
        }
      ]
    },
    {
      "cell_type": "code",
      "source": [
        "# 문자열 인덱싱 (intdexing)\n",
        "# 인덱싱은 문자열을 구성하는 모든 문자에 부여한 고유의 번호이다.\n",
        "\n",
        "s = 'hello'\n",
        "print(s[4]) #인덱스의 시작은 0이다\n",
        "# h e l l o\n",
        "# 0 1 2 3 4 각 문자의 인덱스 번호\n",
        "\n",
        "#\n"
      ],
      "metadata": {
        "colab": {
          "base_uri": "https://localhost:8080/"
        },
        "id": "cE3u9QaOIgZE",
        "outputId": "64812a96-c5db-462c-a856-7cbe4c5c65a7"
      },
      "execution_count": 12,
      "outputs": [
        {
          "output_type": "stream",
          "name": "stdout",
          "text": [
            "o\n"
          ]
        }
      ]
    },
    {
      "cell_type": "code",
      "source": [
        "# h e l l o\n",
        "#-5 -4 -3 -2 -1\n",
        "s = 'hello'\n",
        "print(s[-1])"
      ],
      "metadata": {
        "colab": {
          "base_uri": "https://localhost:8080/"
        },
        "id": "zfpzCSCTN3C2",
        "outputId": "dd3c97df-dc05-4f58-9229-b19a7fc31575"
      },
      "execution_count": 13,
      "outputs": [
        {
          "output_type": "stream",
          "name": "stdout",
          "text": [
            "o\n"
          ]
        }
      ]
    },
    {
      "cell_type": "code",
      "source": [
        "# 문자열 슬라이싱 slicing\n",
        "# 문자열의 인덱스를 사용하여 한문자 이상을 구성된 단어나 문장을 추출\n",
        "\n",
        "s = 'banana'\n",
        "s [0:3]  # [시작 : 끝]\n"
      ],
      "metadata": {
        "colab": {
          "base_uri": "https://localhost:8080/",
          "height": 35
        },
        "id": "YA_xeZ4MOpPr",
        "outputId": "bee9f9fe-6639-4a67-9508-ef226b9087d6"
      },
      "execution_count": 14,
      "outputs": [
        {
          "output_type": "execute_result",
          "data": {
            "application/vnd.google.colaboratory.intrinsic+json": {
              "type": "string"
            },
            "text/plain": [
              "'ban'"
            ]
          },
          "metadata": {},
          "execution_count": 14
        }
      ]
    },
    {
      "cell_type": "code",
      "source": [
        "addr = '서울시 강남구 역삼동 1번지'\n",
        "print(addr[4:7])"
      ],
      "metadata": {
        "colab": {
          "base_uri": "https://localhost:8080/"
        },
        "id": "KZgOEMEOPzZ7",
        "outputId": "15af7acb-9d3a-4545-b1c6-49b96b23ee14"
      },
      "execution_count": 17,
      "outputs": [
        {
          "output_type": "stream",
          "name": "stdout",
          "text": [
            "강남구 \n"
          ]
        }
      ]
    },
    {
      "cell_type": "code",
      "source": [
        "# 04 컬렉션 collection\n",
        "# '여러 값을 하나의 이름으로 묶어서 관리하는 자료형'\n",
        "# 리스트 list 튜플 tuple 딕셔너리 dict 셋 set"
      ],
      "metadata": {
        "id": "QA0ZgnAEQwsB"
      },
      "execution_count": null,
      "outputs": []
    },
    {
      "cell_type": "code",
      "source": [
        "# 리스트 list\n",
        "# 리스트는 여러 값을 저장할때 가장 많이 사용되는 자료형이다.\n",
        "# 특징\n",
        "# 1.대괄호로 생성한다. []\n",
        "# 2.여러가지 자료형을 하나의 리스트로 생성할 수 있다. (?)\n",
        "# 3.mutable 한 속성을 갖는다 (수정, 삭제가 가능하다.)\n",
        "# 4.intdexing, slicing 이 가능하다."
      ],
      "metadata": {
        "id": "JsaIFd4BRC59"
      },
      "execution_count": null,
      "outputs": []
    },
    {
      "cell_type": "code",
      "source": [
        "list1 = [1,2,3,4]\n",
        "list2 = [1,2,3,4,'대''한',True]"
      ],
      "metadata": {
        "id": "yuIVNXT7RTWU"
      },
      "execution_count": null,
      "outputs": []
    },
    {
      "cell_type": "code",
      "source": [
        "li = [100, 3.14, 'hello']\n",
        "\n",
        "li[0]"
      ],
      "metadata": {
        "colab": {
          "base_uri": "https://localhost:8080/"
        },
        "id": "IN0xTPldUFIK",
        "outputId": "d4a9ce1d-0d9b-486c-9015-7c8315882306"
      },
      "execution_count": 18,
      "outputs": [
        {
          "output_type": "execute_result",
          "data": {
            "text/plain": [
              "100"
            ]
          },
          "metadata": {},
          "execution_count": 18
        }
      ]
    },
    {
      "cell_type": "code",
      "source": [
        "li[0:3] #[start : stop(미만)]"
      ],
      "metadata": {
        "colab": {
          "base_uri": "https://localhost:8080/"
        },
        "id": "JGLoiAT5Ua62",
        "outputId": "8575e083-1218-434d-a991-275822c10ea9"
      },
      "execution_count": 20,
      "outputs": [
        {
          "output_type": "execute_result",
          "data": {
            "text/plain": [
              "[100, 3.14, 'hello']"
            ]
          },
          "metadata": {},
          "execution_count": 20
        }
      ]
    },
    {
      "cell_type": "code",
      "source": [
        "scores = [50,40,30]\n",
        "scores.append(100)\n",
        "scores"
      ],
      "metadata": {
        "colab": {
          "base_uri": "https://localhost:8080/"
        },
        "id": "s75vTJhFVVYi",
        "outputId": "9d754ef8-2832-4ca2-92e2-66e6cf17915f"
      },
      "execution_count": 21,
      "outputs": [
        {
          "output_type": "execute_result",
          "data": {
            "text/plain": [
              "[50, 40, 30, 100]"
            ]
          },
          "metadata": {},
          "execution_count": 21
        }
      ]
    },
    {
      "cell_type": "code",
      "source": [
        "# append -리스트에 데이터를 추가\n",
        "scores = [50,40,30]\n",
        "scores.append(100) #값을 추가할때 사용하는 () 소괄호\n",
        "scores"
      ],
      "metadata": {
        "colab": {
          "base_uri": "https://localhost:8080/"
        },
        "id": "bPCQdulNXE9k",
        "outputId": "22e63fcb-cecf-4192-9cb4-04dcc0985e25"
      },
      "execution_count": 24,
      "outputs": [
        {
          "output_type": "execute_result",
          "data": {
            "text/plain": [
              "[50, 40, 30, 100]"
            ]
          },
          "metadata": {},
          "execution_count": 24
        }
      ]
    },
    {
      "cell_type": "code",
      "source": [
        "# insert( ) - 리스트에 데이터를 추가\n",
        "scores.insert(0,90) #특정위치에 데이터를 추가\n",
        "scores"
      ],
      "metadata": {
        "colab": {
          "base_uri": "https://localhost:8080/"
        },
        "id": "7B0q78-1XHqJ",
        "outputId": "70fe8107-bf7a-49fd-e513-e10c092a12ad"
      },
      "execution_count": 23,
      "outputs": [
        {
          "output_type": "execute_result",
          "data": {
            "text/plain": [
              "[90, 50, 40, 30, 100]"
            ]
          },
          "metadata": {},
          "execution_count": 23
        }
      ]
    },
    {
      "cell_type": "code",
      "source": [
        "# pop() - 리스트에서 데이터 삭제\n",
        "scores = [50,40,30]\n",
        "scores.pop(2) \n",
        "scores"
      ],
      "metadata": {
        "colab": {
          "base_uri": "https://localhost:8080/"
        },
        "id": "r1lNTUg2XdyH",
        "outputId": "28655a8a-1b05-4f4f-cc9f-5e56b08da9d2"
      },
      "execution_count": 28,
      "outputs": [
        {
          "output_type": "execute_result",
          "data": {
            "text/plain": [
              "[50, 40]"
            ]
          },
          "metadata": {},
          "execution_count": 28
        }
      ]
    },
    {
      "cell_type": "code",
      "source": [
        "# 튜플 tuple\n",
        "# 저장된 값을 변경할 수 없는 리스트\n",
        "# 특징\n",
        "# 1.소괄호로 생성한다. () 튜플은 괄호 생략 가능\n",
        "# 2.여러가지 자료형을 하나의 튜플로 생성할 수 있다. (?)\n",
        "# 3.immutable 한 속성을 갖는다 (수정, 삭제가 불가능하다.)\n",
        "# 4.intdexing, slicing 이 가능하다.\n",
        "# 5. 1개의 원소를 갖는 튜플을 생성할때는 , 쉼표를 붙인다."
      ],
      "metadata": {
        "id": "mx07mq-4a3zy"
      },
      "execution_count": null,
      "outputs": []
    },
    {
      "cell_type": "code",
      "source": [
        "# tu = (1)       , 없을시 int 로 인식된다.\n",
        "# print(tu)\n",
        "# print(type(tu))\n",
        "\n",
        "tu = (1,)\n",
        "print(tu)\n",
        "print(type(tu))"
      ],
      "metadata": {
        "colab": {
          "base_uri": "https://localhost:8080/"
        },
        "id": "9ZhGvZDecD45",
        "outputId": "609ffe5e-ba75-4147-e9a3-66ee77930c68"
      },
      "execution_count": 29,
      "outputs": [
        {
          "output_type": "stream",
          "name": "stdout",
          "text": [
            "(1,)\n",
            "<class 'tuple'>\n"
          ]
        }
      ]
    },
    {
      "cell_type": "code",
      "source": [
        "tu = 1,2,3,4,5\n",
        "tu[0]"
      ],
      "metadata": {
        "colab": {
          "base_uri": "https://localhost:8080/"
        },
        "id": "rPWofJiMdnHF",
        "outputId": "77e7085e-0074-411f-b1ea-36a02eb63566"
      },
      "execution_count": 35,
      "outputs": [
        {
          "output_type": "execute_result",
          "data": {
            "text/plain": [
              "1"
            ]
          },
          "metadata": {},
          "execution_count": 35
        }
      ]
    },
    {
      "cell_type": "code",
      "source": [
        "tu[0:3]"
      ],
      "metadata": {
        "colab": {
          "base_uri": "https://localhost:8080/"
        },
        "id": "GrG8TpdNd1bG",
        "outputId": "ddc25beb-02d9-4a72-c0d0-5cbff1115675"
      },
      "execution_count": 36,
      "outputs": [
        {
          "output_type": "execute_result",
          "data": {
            "text/plain": [
              "(1, 2, 3)"
            ]
          },
          "metadata": {},
          "execution_count": 36
        }
      ]
    },
    {
      "cell_type": "code",
      "source": [
        "tu = (1,2,3,4,5)\n",
        "tu[0]"
      ],
      "metadata": {
        "colab": {
          "base_uri": "https://localhost:8080/"
        },
        "id": "DX9Fvhg7eDOp",
        "outputId": "ad745071-b07e-4344-8753-c1e624bec9e6"
      },
      "execution_count": 37,
      "outputs": [
        {
          "output_type": "execute_result",
          "data": {
            "text/plain": [
              "1"
            ]
          },
          "metadata": {},
          "execution_count": 37
        }
      ]
    },
    {
      "cell_type": "code",
      "source": [
        "# set 셋 \n",
        "#특징\n",
        "# 1.중괄호로 생성한다. {}\n",
        "# 2.여러가지 자료형을 하나의 셋으로 생성할 수 있다. (?)\n",
        "# 3.mutable 한 속성을 갖는다 (수정, 삭제가 가능하다.)\n",
        "# 4.intdexing, slicing 이 불가능하다. 순서가 없다.\n",
        "# 5. 중복된 데이터를 함께 저장할 수 없다. (중복 불가능)"
      ],
      "metadata": {
        "id": "ma938p__eZuK"
      },
      "execution_count": null,
      "outputs": []
    },
    {
      "cell_type": "code",
      "source": [
        "# 5\n",
        "set = {1,1,2,3}   # 1,1, 두개가 중복 되기때문에 하나의 1이 사라진다. 여러개여도 마찬가지\n",
        "set"
      ],
      "metadata": {
        "colab": {
          "base_uri": "https://localhost:8080/"
        },
        "id": "o65FMBPxfCJR",
        "outputId": "18afbd51-f6a1-4eb4-fa76-bc3f682251d1"
      },
      "execution_count": 38,
      "outputs": [
        {
          "output_type": "execute_result",
          "data": {
            "text/plain": [
              "{1, 2, 3}"
            ]
          },
          "metadata": {},
          "execution_count": 38
        }
      ]
    },
    {
      "cell_type": "code",
      "source": [
        "# 3  추가\n",
        "set.add(4)\n",
        "set"
      ],
      "metadata": {
        "colab": {
          "base_uri": "https://localhost:8080/"
        },
        "id": "KIlhNke5fOV0",
        "outputId": "17052d32-7b5d-447f-808b-e6b684da4346"
      },
      "execution_count": 39,
      "outputs": [
        {
          "output_type": "execute_result",
          "data": {
            "text/plain": [
              "{1, 2, 3, 4}"
            ]
          },
          "metadata": {},
          "execution_count": 39
        }
      ]
    },
    {
      "cell_type": "code",
      "source": [
        "#3 삭제\n",
        "set.remove(3)\n",
        "set"
      ],
      "metadata": {
        "colab": {
          "base_uri": "https://localhost:8080/"
        },
        "id": "SoaGO6omfxrp",
        "outputId": "698c5c90-545f-408a-ef0a-d13fd1b79b9c"
      },
      "execution_count": 43,
      "outputs": [
        {
          "output_type": "execute_result",
          "data": {
            "text/plain": [
              "{1, 2, 4}"
            ]
          },
          "metadata": {},
          "execution_count": 43
        }
      ]
    },
    {
      "cell_type": "code",
      "source": [
        "# dict 딕셔너리 키값과 벨류값의 쌍으로 데이터를 저장하는 자료\n",
        "# 자바에서의 map js 에서의json과 유사한 파이썬의 자료형\n",
        "\n",
        "#특징\n",
        "# 1.중괄호로 생성한다. {}\n",
        "# 2.여러가지 자료형을 하나의 딕셔너리로 생성할 수 있다. (?)\n",
        "# 3.mutable 한 속성을 갖는다 (수정, 삭제가 가능하다.)\n",
        "# 4.intdexing, slicing 이 불가능하다. 순서가 없다.\n",
        "# 5. 키와 벨류로 구성한다.\n",
        "\n",
        "# dict = {'name' : '홍길동', 'age' : '24'}\n",
        "d = {'a':'apple', 'b':'banana'}\n",
        "d"
      ],
      "metadata": {
        "colab": {
          "base_uri": "https://localhost:8080/"
        },
        "id": "C5rZ_UbWgGjB",
        "outputId": "160cee24-d515-4f55-ef75-573e6710693c"
      },
      "execution_count": 53,
      "outputs": [
        {
          "output_type": "execute_result",
          "data": {
            "text/plain": [
              "{'a': 'apple', 'b': 'banana'}"
            ]
          },
          "metadata": {},
          "execution_count": 53
        }
      ]
    },
    {
      "cell_type": "code",
      "source": [
        "d['c'] = 'cherry'\n",
        "d"
      ],
      "metadata": {
        "colab": {
          "base_uri": "https://localhost:8080/"
        },
        "id": "suhCB9mCiVMb",
        "outputId": "f25e2d8c-28d1-4816-99b9-e6dc798403d9"
      },
      "execution_count": 54,
      "outputs": [
        {
          "output_type": "execute_result",
          "data": {
            "text/plain": [
              "{'a': 'apple', 'b': 'banana', 'c': 'cherry'}"
            ]
          },
          "metadata": {},
          "execution_count": 54
        }
      ]
    },
    {
      "cell_type": "code",
      "source": [
        "d['c'] = '체리'\n",
        "d"
      ],
      "metadata": {
        "colab": {
          "base_uri": "https://localhost:8080/"
        },
        "id": "_6vflv_QirhE",
        "outputId": "5e87d892-fcd7-468e-d8f1-9bef4fb2d321"
      },
      "execution_count": 55,
      "outputs": [
        {
          "output_type": "execute_result",
          "data": {
            "text/plain": [
              "{'a': 'apple', 'b': 'banana', 'c': '체리'}"
            ]
          },
          "metadata": {},
          "execution_count": 55
        }
      ]
    },
    {
      "cell_type": "code",
      "source": [
        "d.pop('c')\n",
        "d"
      ],
      "metadata": {
        "colab": {
          "base_uri": "https://localhost:8080/"
        },
        "id": "ZH_S7ObLixoE",
        "outputId": "c008faf7-9c56-465e-a944-2ea7a9547309"
      },
      "execution_count": 56,
      "outputs": [
        {
          "output_type": "execute_result",
          "data": {
            "text/plain": [
              "{'a': 'apple', 'b': 'banana'}"
            ]
          },
          "metadata": {},
          "execution_count": 56
        }
      ]
    },
    {
      "cell_type": "code",
      "source": [
        "#mutable : 리스트 셋 딕셔너리        (수정 삭제 가능)\n",
        "#immutable : 튜플 정수 실수 문자열   (수정 삭제 불가능)\n",
        "\n",
        "me = [1,2,3]\n",
        "id(me) #실제 데이터가 저장된 메모리 위치"
      ],
      "metadata": {
        "colab": {
          "base_uri": "https://localhost:8080/"
        },
        "id": "EWEpfGePjBxm",
        "outputId": "b1cc86dd-2d78-47b2-d9c3-e04f283f2964"
      },
      "execution_count": 57,
      "outputs": [
        {
          "output_type": "execute_result",
          "data": {
            "text/plain": [
              "140301550570064"
            ]
          },
          "metadata": {},
          "execution_count": 57
        }
      ]
    },
    {
      "cell_type": "code",
      "source": [
        "me.append(4)\n",
        "id(me) #메모리의 실제주소가 변하지 않았다."
      ],
      "metadata": {
        "colab": {
          "base_uri": "https://localhost:8080/"
        },
        "id": "m2Ati5VvjsvS",
        "outputId": "279865fe-6ca1-4200-bb9b-4004e8bfe5f0"
      },
      "execution_count": 58,
      "outputs": [
        {
          "output_type": "execute_result",
          "data": {
            "text/plain": [
              "140301550570064"
            ]
          },
          "metadata": {},
          "execution_count": 58
        }
      ]
    },
    {
      "cell_type": "code",
      "source": [
        "me"
      ],
      "metadata": {
        "colab": {
          "base_uri": "https://localhost:8080/"
        },
        "id": "t6jZgqbzjzvT",
        "outputId": "23af8643-17a0-4ca7-d606-bb9485c816b8"
      },
      "execution_count": 59,
      "outputs": [
        {
          "output_type": "execute_result",
          "data": {
            "text/plain": [
              "[1, 2, 3, 4]"
            ]
          },
          "metadata": {},
          "execution_count": 59
        }
      ]
    },
    {
      "cell_type": "code",
      "source": [
        "# immutable\n",
        "\n",
        "me = 10\n",
        "id(me)\n"
      ],
      "metadata": {
        "colab": {
          "base_uri": "https://localhost:8080/"
        },
        "id": "3BQP2vSPkCIz",
        "outputId": "f24ef711-311c-43cc-9cb5-4e6babab90ca"
      },
      "execution_count": 62,
      "outputs": [
        {
          "output_type": "execute_result",
          "data": {
            "text/plain": [
              "94752981842720"
            ]
          },
          "metadata": {},
          "execution_count": 62
        }
      ]
    },
    {
      "cell_type": "code",
      "source": [
        "me += 1  #me = me +1\n",
        "id(me)  #메모리의 주소가 바뀐것을 확인할 수 있다."
      ],
      "metadata": {
        "colab": {
          "base_uri": "https://localhost:8080/"
        },
        "id": "ftTEqPEvkHt5",
        "outputId": "482a78ed-46c8-4717-cb45-9cb1f02797a5"
      },
      "execution_count": 63,
      "outputs": [
        {
          "output_type": "execute_result",
          "data": {
            "text/plain": [
              "94752981842752"
            ]
          },
          "metadata": {},
          "execution_count": 63
        }
      ]
    },
    {
      "cell_type": "code",
      "source": [
        ""
      ],
      "metadata": {
        "id": "hdAsDiR2k56z"
      },
      "execution_count": null,
      "outputs": []
    }
  ]
}