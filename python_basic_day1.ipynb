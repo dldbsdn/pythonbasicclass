{
  "nbformat": 4,
  "nbformat_minor": 0,
  "metadata": {
    "colab": {
      "name": "python basic day1.ipynb",
      "provenance": [],
      "authorship_tag": "ABX9TyOQS71/DEPy4cPjjj4Fs8pl",
      "include_colab_link": true
    },
    "kernelspec": {
      "name": "python3",
      "display_name": "Python 3"
    },
    "language_info": {
      "name": "python"
    }
  },
  "cells": [
    {
      "cell_type": "markdown",
      "metadata": {
        "id": "view-in-github",
        "colab_type": "text"
      },
      "source": [
        "<a href=\"https://colab.research.google.com/github/dldbsdn/pythonbasicclass/blob/main/python_basic_day1.ipynb\" target=\"_parent\"><img src=\"https://colab.research.google.com/assets/colab-badge.svg\" alt=\"Open In Colab\"/></a>"
      ]
    },
    {
      "cell_type": "code",
      "execution_count": null,
      "metadata": {
        "id": "vBP8qBhf1NJv"
      },
      "outputs": [],
      "source": [
        "# 파인썬이란?\n",
        "\n",
        "# 1991 네덜란드 귀도 반로썸에 의하여 개발된 언어\n",
        "# 본래 비단뱀 이라는 뜻을 가지고 있어 로고등 대부분의\n",
        "# 로고등을 뱀으로 나타낸다.\n"
      ]
    },
    {
      "cell_type": "code",
      "source": [
        "# 파이썬의 특징\n",
        "\n",
        "# 1) 파이썬은 인터프리터 언어이다. (컴파일러가 아니다)\n",
        "# ( 하이브리드가 아니다)\n",
        "#      -인터프리터 : 한줄씩 실행이된다.\n",
        "\n",
        "# 2) 플랫폼에 독립적이다.\n",
        "\n",
        "# 3) 객체 지향 언어이다. \n",
        "\n",
        "# 4) 동적 타이핑 언어이다.\n",
        "\n",
        "# 5) 개발 속도가 빠르다.\n",
        "# 개발환경 -web : colab   local : Anaconda or vs code"
      ],
      "metadata": {
        "id": "LxbGKG_HMsdC"
      },
      "execution_count": null,
      "outputs": []
    },
    {
      "cell_type": "code",
      "source": [
        "# 주석 comment (ctrl + / )\n",
        "\n",
        "# 1.코드에 설명을 작성하는 부분\n",
        "# 2.주석은 프로그램 실행에 전혀 영향을 주지 않는다.\n",
        "# 3.주석은 # 기호를 사용하거나 ''' 주석 ''' , \"\"\" 주석 \"\"\"\n"
      ],
      "metadata": {
        "id": "hwEr_BT4MxZZ"
      },
      "execution_count": null,
      "outputs": []
    },
    {
      "cell_type": "code",
      "source": [
        "# 변수 variable\n",
        "\n",
        "# 어떤 데이터를 저장할때 사용되는 저장소\n",
        "\n",
        "# score = 100 score라는 이름에 변수 100을 넣는다\n",
        "# print(score)\n",
        "\n",
        "# 변수 이름 생성 규칙\n",
        "\n",
        "# 1. 영문 한글 숫자 밑줄로 구성된다\n",
        "# (한글은 변수명을 사용하지 말자)\n",
        "# 2. 특수문자는 사용불가\n",
        "# 3. 대문자와 소문자는 구분한다\n",
        "# 4. 변수명의 첫문자에 숫자는 쓸수 없다.\n",
        "# a2 = 100 (0)\n",
        "# 2a = 100 (x)\n",
        "# 5. 예약어(키워드)는 사용할 수 없다.\n",
        "\n",
        "# 가급적 소문자로 만든다.\n",
        "# 가급적 한글은 사용하지 말자.\n",
        "# 가급적 의미있는 단어를 사용하자."
      ],
      "metadata": {
        "id": "wD8V2k2pM00r"
      },
      "execution_count": null,
      "outputs": []
    },
    {
      "cell_type": "code",
      "source": [
        "'''     Docstring\n",
        "파일명: Ex02-1.py\n",
        "개요: 반지름을 전달하면 원의 넓이를 반환\n",
        "작성자: 홍길동\n",
        "작성일: 2020-0825\n",
        "'''\n",
        "# math 모듈 포함\n",
        "import math\n",
        "\n",
        "def get_area(radius):\n",
        "  \"\"\"반지름을 입력받아 원의 넓이를 반환하는 get_area()함수\"\"\"\n",
        "  area = math.pi * math.pow(radius,2)\n",
        "  return area\n",
        "\n",
        "radius = 1.5\n",
        "# get_area() 힘수 호출 결과를 area 변수에 저장\n",
        "area = get_area(radius)\n",
        "print(area)\n",
        "print(get_area.__doc__)"
      ],
      "metadata": {
        "colab": {
          "base_uri": "https://localhost:8080/"
        },
        "id": "92hj7F-jBHK0",
        "outputId": "8396f100-2f9a-4d73-ec23-96ac5b5bbf1b"
      },
      "execution_count": 2,
      "outputs": [
        {
          "output_type": "stream",
          "name": "stdout",
          "text": [
            "7.0685834705770345\n",
            "반지름을 입력받아 원의 넓이를 반환하는 get_area()함수\n"
          ]
        }
      ]
    },
    {
      "cell_type": "code",
      "source": [
        "name = 'Alice'\n",
        "age = 25\n",
        "address = ''' 우편번호 12345\n",
        "서울시 영등포구 여의도동\n",
        "서울빌딩 501호 '''\n",
        "boyfriend = None\n",
        "height = 168.5\n",
        "\n",
        "print(name)\n",
        "print(age)\n",
        "print(address)\n",
        "print(boyfriend)\n",
        "print(height)"
      ],
      "metadata": {
        "colab": {
          "base_uri": "https://localhost:8080/"
        },
        "id": "pkcnJuZZJ4GV",
        "outputId": "e33a1e8a-159e-4e57-fb51-18b4c7b62e72"
      },
      "execution_count": 4,
      "outputs": [
        {
          "output_type": "stream",
          "name": "stdout",
          "text": [
            "Alice\n",
            "25\n",
            " 우편번호 12345\n",
            "서울시 영등포구 여의도동\n",
            "서울빌딩 501호 \n",
            "None\n",
            "168.5\n"
          ]
        }
      ]
    }
  ]
}