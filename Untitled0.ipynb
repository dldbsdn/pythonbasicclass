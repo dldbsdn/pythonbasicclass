{
  "nbformat": 4,
  "nbformat_minor": 0,
  "metadata": {
    "colab": {
      "name": "Untitled0.ipynb",
      "provenance": [],
      "authorship_tag": "ABX9TyPw44eZRlhGzDR7nh5rlG0f",
      "include_colab_link": true
    },
    "kernelspec": {
      "name": "python3",
      "display_name": "Python 3"
    },
    "language_info": {
      "name": "python"
    }
  },
  "cells": [
    {
      "cell_type": "markdown",
      "metadata": {
        "id": "view-in-github",
        "colab_type": "text"
      },
      "source": [
        "<a href=\"https://colab.research.google.com/github/dldbsdn/pythonbasicclass/blob/main/Untitled0.ipynb\" target=\"_parent\"><img src=\"https://colab.research.google.com/assets/colab-badge.svg\" alt=\"Open In Colab\"/></a>"
      ]
    },
    {
      "cell_type": "code",
      "execution_count": null,
      "metadata": {
        "id": "P5n8BVZf_wXp"
      },
      "outputs": [],
      "source": [
        "# 3 기본 자료형\n",
        "\n",
        "int 정수 1,2,3,4\n",
        "float 실수 3.14  , 2.18\n",
        "bool 논리 true, false\n",
        "str 문자열 '홍길동', '슈가'"
      ]
    },
    {
      "cell_type": "code",
      "source": [
        "# 1. 정수  int\n",
        "\n",
        "int(1.9)"
      ],
      "metadata": {
        "id": "5opx5QjFAL0A"
      },
      "execution_count": null,
      "outputs": []
    },
    {
      "cell_type": "code",
      "source": [
        "# int('100')\n",
        "# 큰따옴표 또는 작은 따옴표 안에있는 숫자는 숫자처럼 보이지만 문자로 취급."
      ],
      "metadata": {
        "id": "TvS7CzmMEFsA"
      },
      "execution_count": null,
      "outputs": []
    },
    {
      "cell_type": "code",
      "source": [
        "# input ('숫자를 입력하세요>>>') # input 은 모든 입력을 문자로만 받는다.\n",
        "\n",
        "# 숫자를 입력하세요>>> 123\n",
        "# '123'"
      ],
      "metadata": {
        "id": "i7UZHueTEMm8"
      },
      "execution_count": null,
      "outputs": []
    },
    {
      "cell_type": "code",
      "source": [
        "# int(input('숫자를 입력하세요>>>'))\n",
        "# 숫자를 입력하세요 >>> 123\n",
        "# 123"
      ],
      "metadata": {
        "colab": {
          "base_uri": "https://localhost:8080/",
          "height": 137
        },
        "id": "3IhRz3JKFcSZ",
        "outputId": "2e27d9fa-94a8-4bef-c472-eea1e277e635"
      },
      "execution_count": 2,
      "outputs": [
        {
          "output_type": "error",
          "ename": "SyntaxError",
          "evalue": "ignored",
          "traceback": [
            "\u001b[0;36m  File \u001b[0;32m\"<ipython-input-2-6fe90aa236ad>\"\u001b[0;36m, line \u001b[0;32m2\u001b[0m\n\u001b[0;31m    숫자를 입력하세요 >>> 123\u001b[0m\n\u001b[0m            ^\u001b[0m\n\u001b[0;31mSyntaxError\u001b[0m\u001b[0;31m:\u001b[0m invalid syntax\n"
          ]
        }
      ]
    },
    {
      "cell_type": "code",
      "source": [
        "# 논리 bool , boolean : True or False\n",
        "\n",
        "bool(0)"
      ],
      "metadata": {
        "colab": {
          "base_uri": "https://localhost:8080/"
        },
        "id": "Y2ECLloSF24e",
        "outputId": "4cc689e2-0df2-47dd-9169-621137632967"
      },
      "execution_count": 6,
      "outputs": [
        {
          "output_type": "execute_result",
          "data": {
            "text/plain": [
              "False"
            ]
          },
          "metadata": {},
          "execution_count": 6
        }
      ]
    },
    {
      "cell_type": "code",
      "source": [
        "bool(1)"
      ],
      "metadata": {
        "colab": {
          "base_uri": "https://localhost:8080/"
        },
        "id": "oFdDfn26GPJ-",
        "outputId": "ab32468d-f34a-40dd-9387-ddbaedf78f14"
      },
      "execution_count": 3,
      "outputs": [
        {
          "output_type": "execute_result",
          "data": {
            "text/plain": [
              "True"
            ]
          },
          "metadata": {},
          "execution_count": 3
        }
      ]
    },
    {
      "cell_type": "code",
      "source": [
        "bool('')"
      ],
      "metadata": {
        "colab": {
          "base_uri": "https://localhost:8080/"
        },
        "id": "QXEFP76wGW2I",
        "outputId": "0e5bab16-5987-4618-d4a8-3f675fc0b77a"
      },
      "execution_count": 4,
      "outputs": [
        {
          "output_type": "execute_result",
          "data": {
            "text/plain": [
              "False"
            ]
          },
          "metadata": {},
          "execution_count": 4
        }
      ]
    },
    {
      "cell_type": "code",
      "source": [
        "bool('1')"
      ],
      "metadata": {
        "colab": {
          "base_uri": "https://localhost:8080/"
        },
        "id": "GgCPcaY2GaWA",
        "outputId": "7832a1e7-d17d-47d1-e896-c95c9fdbf20b"
      },
      "execution_count": 5,
      "outputs": [
        {
          "output_type": "execute_result",
          "data": {
            "text/plain": [
              "True"
            ]
          },
          "metadata": {},
          "execution_count": 5
        }
      ]
    },
    {
      "cell_type": "code",
      "source": [
        "# 4 문자열 str  , string\n",
        "\n",
        "a = '한국'\n",
        "b = \"한국\"  #따옴표 상관없이 오류발생이 생기지않음.\n",
        "\n",
        "a = '''대한\n",
        "민국 '''"
      ],
      "metadata": {
        "id": "7Qz_T9PuGxcI"
      },
      "execution_count": null,
      "outputs": []
    },
    {
      "cell_type": "code",
      "source": [
        "str(100)"
      ],
      "metadata": {
        "colab": {
          "base_uri": "https://localhost:8080/",
          "height": 35
        },
        "id": "2TK7AEIpIBy2",
        "outputId": "47c30bce-8e0e-4ef4-bbb8-47c1d8c56b14"
      },
      "execution_count": 7,
      "outputs": [
        {
          "output_type": "execute_result",
          "data": {
            "application/vnd.google.colaboratory.intrinsic+json": {
              "type": "string"
            },
            "text/plain": [
              "'100'"
            ]
          },
          "metadata": {},
          "execution_count": 7
        }
      ]
    },
    {
      "cell_type": "code",
      "source": [
        "str(True)"
      ],
      "metadata": {
        "colab": {
          "base_uri": "https://localhost:8080/",
          "height": 35
        },
        "id": "NXxl-sw0IGq_",
        "outputId": "737347d8-f5c2-4998-993e-260353858f48"
      },
      "execution_count": 9,
      "outputs": [
        {
          "output_type": "execute_result",
          "data": {
            "application/vnd.google.colaboratory.intrinsic+json": {
              "type": "string"
            },
            "text/plain": [
              "'True'"
            ]
          },
          "metadata": {},
          "execution_count": 9
        }
      ]
    },
    {
      "cell_type": "code",
      "source": [
        "str(False)"
      ],
      "metadata": {
        "colab": {
          "base_uri": "https://localhost:8080/",
          "height": 35
        },
        "id": "QB9yhVWrIOoe",
        "outputId": "212c8187-ab8b-4b02-b138-91cb2d50690b"
      },
      "execution_count": 11,
      "outputs": [
        {
          "output_type": "execute_result",
          "data": {
            "application/vnd.google.colaboratory.intrinsic+json": {
              "type": "string"
            },
            "text/plain": [
              "'False'"
            ]
          },
          "metadata": {},
          "execution_count": 11
        }
      ]
    },
    {
      "cell_type": "code",
      "source": [
        "# 문자열 인덱싱 (intdexing)\n",
        "\n"
      ],
      "metadata": {
        "id": "cE3u9QaOIgZE"
      },
      "execution_count": null,
      "outputs": []
    }
  ]
}